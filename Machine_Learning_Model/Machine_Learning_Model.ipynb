{
  "nbformat": 4,
  "nbformat_minor": 0,
  "metadata": {
    "colab": {
      "name": "Machine_Learning_Model.ipynb",
      "provenance": []
    },
    "kernelspec": {
      "name": "python3",
      "display_name": "Python 3"
    },
    "language_info": {
      "name": "python"
    }
  },
  "cells": [
    {
      "cell_type": "code",
      "execution_count": null,
      "metadata": {
        "id": "6mlk6nifWgYM"
      },
      "outputs": [],
      "source": [
        "from sklearn.ensemble import GradientBoostingRegressor, RandomForestRegressor\n",
        "from sklearn.model_selection import train_test_split\n",
        "from sklearn.preprocessing import PolynomialFeatures\n",
        "from sklearn.model_selection import GridSearchCV\n",
        "from sklearn.ensemble import AdaBoostRegressor\n",
        "from sklearn.metrics import mean_squared_error\n",
        "from sklearn.model_selection import KFold\n",
        "from sklearn.linear_model import Lasso\n",
        "from xgboost import XGBRegressor\n",
        "from math import sqrt\n",
        "from lightgbm import LGBMRegressor\n",
        "from ngboost import NGBRegressor\n",
        "from catboost import CatBoostRegressor"
      ]
    },
    {
      "cell_type": "code",
      "source": [
        "kf = KFold(n_splits =  5, shuffle = True, random_state = 42)"
      ],
      "metadata": {
        "id": "7P15e7KjWrUj"
      },
      "execution_count": null,
      "outputs": []
    },
    {
      "cell_type": "code",
      "source": [
        "X_train, X_test, y_train, y_test = train_test_split(X, y, test_size=0.2, random_state=121)"
      ],
      "metadata": {
        "id": "gHb3qCv0WtZr"
      },
      "execution_count": null,
      "outputs": []
    },
    {
      "cell_type": "code",
      "source": [
        "hyper_parameter = {\n",
        "    'alpha' : [0.01, 0.1, 1, 10],\n",
        "    'max_iter' : [100, 500, 1000, 1500, 2000]\n",
        "}"
      ],
      "metadata": {
        "id": "eeMSN0gEWtXO"
      },
      "execution_count": null,
      "outputs": []
    },
    {
      "cell_type": "code",
      "source": [
        "lasso_model = Lasso(alpha=0.001, max_iter=1000, normalize=True)"
      ],
      "metadata": {
        "id": "9wBydR_2WtU0"
      },
      "execution_count": null,
      "outputs": []
    },
    {
      "cell_type": "code",
      "source": [
        "hyper_parameter_tuner = GridSearchCV(lasso_model, hyper_parameter, cv=kf)\n",
        "hyper_parameter_tuner.fit(X, y)"
      ],
      "metadata": {
        "id": "YeuerPa8WtSa"
      },
      "execution_count": null,
      "outputs": []
    },
    {
      "cell_type": "code",
      "source": [
        "hyper_parameter_tuner.best_params_"
      ],
      "metadata": {
        "id": "NScltfrDWtMr"
      },
      "execution_count": null,
      "outputs": []
    },
    {
      "cell_type": "code",
      "source": [
        "xgb.fit(X_train, y_train)"
      ],
      "metadata": {
        "id": "poReB1PSWxpU"
      },
      "execution_count": null,
      "outputs": []
    },
    {
      "cell_type": "code",
      "source": [
        "gbr.fit(X_train, y_train)"
      ],
      "metadata": {
        "id": "hC7IKd3VWxm0"
      },
      "execution_count": null,
      "outputs": []
    },
    {
      "cell_type": "code",
      "source": [
        "ada.fit(X_train, y_train)"
      ],
      "metadata": {
        "id": "aU0-SsRlWxkC"
      },
      "execution_count": null,
      "outputs": []
    },
    {
      "cell_type": "code",
      "source": [
        "lgb.fit(X_train, y_train)"
      ],
      "metadata": {
        "id": "sbOkkfmSW3ID"
      },
      "execution_count": null,
      "outputs": []
    },
    {
      "cell_type": "code",
      "source": [
        "ngb.fit(X_train, y_train)"
      ],
      "metadata": {
        "id": "qjP-_SckW3_V"
      },
      "execution_count": null,
      "outputs": []
    },
    {
      "cell_type": "code",
      "source": [
        "cat.fit(X_train, y_train)"
      ],
      "metadata": {
        "id": "GK3pWpurW39S"
      },
      "execution_count": null,
      "outputs": []
    },
    {
      "cell_type": "code",
      "source": [
        "xg_pred = xgb.predict(X_test)\n",
        "gbr_pred = gbr.predict(X_test)\n",
        "rf_pred = rf.predict(X_test)\n",
        "ada_pred = ada.predict(X_test)\n",
        "lgb_pred = lgb.predict(X_test)\n",
        "ngb_pred = ngb.predict(X_test)\n",
        "cat_pred = cat.predict(X_test)"
      ],
      "metadata": {
        "id": "5NudBm0gW36S"
      },
      "execution_count": null,
      "outputs": []
    },
    {
      "cell_type": "code",
      "source": [
        "mean_squared_error(y_test, xg_pred) ** 0.5"
      ],
      "metadata": {
        "id": "LQ-IrgD5W33i"
      },
      "execution_count": null,
      "outputs": []
    },
    {
      "cell_type": "code",
      "source": [
        "mean_squared_error(y_test, gbr_pred) ** 0.5"
      ],
      "metadata": {
        "id": "lXIeGLaFW305"
      },
      "execution_count": null,
      "outputs": []
    },
    {
      "cell_type": "code",
      "source": [
        "mean_squared_error(y_test, rf_pred) ** 0.5"
      ],
      "metadata": {
        "id": "iu6gXX-LW_Fb"
      },
      "execution_count": null,
      "outputs": []
    },
    {
      "cell_type": "code",
      "source": [
        "mean_squared_error(y_test, ada_pred) ** 0.5"
      ],
      "metadata": {
        "id": "rI_Yci4uW_DZ"
      },
      "execution_count": null,
      "outputs": []
    },
    {
      "cell_type": "code",
      "source": [
        "mean_squared_error(y_test, lgb_pred) ** 0.5"
      ],
      "metadata": {
        "id": "tImw__NvW_A6"
      },
      "execution_count": null,
      "outputs": []
    },
    {
      "cell_type": "code",
      "source": [
        "mean_squared_error(y_test, ngb_pred) ** 0.5"
      ],
      "metadata": {
        "id": "pN1ibDSRW--M"
      },
      "execution_count": null,
      "outputs": []
    },
    {
      "cell_type": "code",
      "source": [
        "mean_squared_error(y_test, cat_pred) ** 0.5"
      ],
      "metadata": {
        "id": "fovEXGOfW-7i"
      },
      "execution_count": null,
      "outputs": []
    },
    {
      "cell_type": "code",
      "source": [
        "xgb.score(X_test, y_test) "
      ],
      "metadata": {
        "id": "W5t3L_3FXFGi"
      },
      "execution_count": null,
      "outputs": []
    },
    {
      "cell_type": "code",
      "source": [
        "gbr.score(X_test, y_test)"
      ],
      "metadata": {
        "id": "V1pOgzx0XFEB"
      },
      "execution_count": null,
      "outputs": []
    },
    {
      "cell_type": "code",
      "source": [
        "rf.score(X_test, y_test) "
      ],
      "metadata": {
        "id": "QDdiBod-XFBT"
      },
      "execution_count": null,
      "outputs": []
    },
    {
      "cell_type": "code",
      "source": [
        "ada.score(X_test, y_test)"
      ],
      "metadata": {
        "id": "b99h4vG5XE-y"
      },
      "execution_count": null,
      "outputs": []
    },
    {
      "cell_type": "code",
      "source": [
        "lgb.score(X_test, y_test)"
      ],
      "metadata": {
        "id": "MZoL0g3SXE8R"
      },
      "execution_count": null,
      "outputs": []
    },
    {
      "cell_type": "code",
      "source": [
        "ngb.score(X_test, y_test)"
      ],
      "metadata": {
        "id": "RURxnRuwXKZ2"
      },
      "execution_count": null,
      "outputs": []
    },
    {
      "cell_type": "code",
      "source": [
        "cat.score(X_test, y_test)"
      ],
      "metadata": {
        "id": "cPldjJzqXKYE"
      },
      "execution_count": null,
      "outputs": []
    }
  ]
}